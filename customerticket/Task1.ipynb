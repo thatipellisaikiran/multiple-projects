{
 "cells": [
  {
   "cell_type": "markdown",
   "metadata": {
    "id": "Zip-R6z4I81v"
   },
   "source": [
    "# Task 1: Customer Support Ticket Classifier"
   ]
  },
  {
   "cell_type": "markdown",
   "metadata": {
    "id": "JclFEYv2y9zz"
   },
   "source": [
    "✅ Step 1: Data Preparation"
   ]
  },
  {
   "cell_type": "code",
   "execution_count": 2,
   "metadata": {
    "colab": {
     "base_uri": "https://localhost:8080/"
    },
    "id": "zi1tvz-FwELp",
    "outputId": "30f173cd-e5aa-4dd5-c53a-8decb9b5aa68"
   },
   "outputs": [],
   "source": [
    "# Install Required Libraries\n",
    "# !pip install pandas openpyxl nltk scikit-learn\n",
    "import nltk\n",
    "# nltk.download('punkt')\n",
    "# nltk.download('stopwords')\n",
    "# nltk.download('wordnet')\n",
    "# nltk.download('punkt_tab')"
   ]
  },
  {
   "cell_type": "code",
   "execution_count": 3,
   "metadata": {},
   "outputs": [],
   "source": [
    "# !pip install xlrd\n"
   ]
  },
  {
   "cell_type": "code",
   "execution_count": 7,
   "metadata": {
    "id": "mu2-vuVgwmza"
   },
   "outputs": [],
   "source": [
    "import pandas as pd\n",
    "import numpy as np\n",
    "import re\n",
    "from nltk.tokenize import word_tokenize\n",
    "from nltk.corpus import stopwords\n",
    "from nltk.stem import WordNetLemmatizer"
   ]
  },
  {
   "cell_type": "code",
   "execution_count": 8,
   "metadata": {
    "colab": {
     "base_uri": "https://localhost:8080/",
     "height": 263
    },
    "id": "9Vw3o8ezwriR",
    "outputId": "1e7d1dec-a642-4fd9-92f7-ba0911f34705"
   },
   "outputs": [
    {
     "data": {
      "text/html": [
       "<div>\n",
       "<style scoped>\n",
       "    .dataframe tbody tr th:only-of-type {\n",
       "        vertical-align: middle;\n",
       "    }\n",
       "\n",
       "    .dataframe tbody tr th {\n",
       "        vertical-align: top;\n",
       "    }\n",
       "\n",
       "    .dataframe thead th {\n",
       "        text-align: right;\n",
       "    }\n",
       "</style>\n",
       "<table border=\"1\" class=\"dataframe\">\n",
       "  <thead>\n",
       "    <tr style=\"text-align: right;\">\n",
       "      <th></th>\n",
       "      <th>ticket_id</th>\n",
       "      <th>ticket_text</th>\n",
       "      <th>issue_type</th>\n",
       "      <th>urgency_level</th>\n",
       "      <th>product</th>\n",
       "    </tr>\n",
       "  </thead>\n",
       "  <tbody>\n",
       "    <tr>\n",
       "      <th>0</th>\n",
       "      <td>1</td>\n",
       "      <td>Payment issue for my SmartWatch V2. I was unde...</td>\n",
       "      <td>Billing Problem</td>\n",
       "      <td>Medium</td>\n",
       "      <td>SmartWatch V2</td>\n",
       "    </tr>\n",
       "    <tr>\n",
       "      <th>1</th>\n",
       "      <td>2</td>\n",
       "      <td>Can you tell me more about the UltraClean Vacu...</td>\n",
       "      <td>General Inquiry</td>\n",
       "      <td>NaN</td>\n",
       "      <td>UltraClean Vacuum</td>\n",
       "    </tr>\n",
       "    <tr>\n",
       "      <th>2</th>\n",
       "      <td>3</td>\n",
       "      <td>I ordered SoundWave 300 but got EcoBreeze AC i...</td>\n",
       "      <td>Wrong Item</td>\n",
       "      <td>Medium</td>\n",
       "      <td>SoundWave 300</td>\n",
       "    </tr>\n",
       "    <tr>\n",
       "      <th>3</th>\n",
       "      <td>4</td>\n",
       "      <td>Facing installation issue with PhotoSnap Cam. ...</td>\n",
       "      <td>Installation Issue</td>\n",
       "      <td>Low</td>\n",
       "      <td>PhotoSnap Cam</td>\n",
       "    </tr>\n",
       "    <tr>\n",
       "      <th>4</th>\n",
       "      <td>5</td>\n",
       "      <td>Order #30903 for Vision LED TV is 13 days late...</td>\n",
       "      <td>Late Delivery</td>\n",
       "      <td>NaN</td>\n",
       "      <td>Vision LED TV</td>\n",
       "    </tr>\n",
       "  </tbody>\n",
       "</table>\n",
       "</div>"
      ],
      "text/plain": [
       "   ticket_id                                        ticket_text  \\\n",
       "0          1  Payment issue for my SmartWatch V2. I was unde...   \n",
       "1          2  Can you tell me more about the UltraClean Vacu...   \n",
       "2          3  I ordered SoundWave 300 but got EcoBreeze AC i...   \n",
       "3          4  Facing installation issue with PhotoSnap Cam. ...   \n",
       "4          5  Order #30903 for Vision LED TV is 13 days late...   \n",
       "\n",
       "           issue_type urgency_level            product  \n",
       "0     Billing Problem        Medium      SmartWatch V2  \n",
       "1     General Inquiry           NaN  UltraClean Vacuum  \n",
       "2          Wrong Item        Medium      SoundWave 300  \n",
       "3  Installation Issue           Low      PhotoSnap Cam  \n",
       "4       Late Delivery           NaN      Vision LED TV  "
      ]
     },
     "execution_count": 8,
     "metadata": {},
     "output_type": "execute_result"
    }
   ],
   "source": [
    "\n",
    "# Load the file (adjust filename if needed)\n",
    "import pandas as pd\n",
    "\n",
    "df = pd.read_excel(r'C:\\Users\\Saikiran\\python1\\company tasks\\Vijayi Technologies\\customerticket\\ai_dev_assignment_tickets_complex_1000.xls', engine=\"xlrd\")\n",
    "df.head()\n"
   ]
  },
  {
   "cell_type": "code",
   "execution_count": 9,
   "metadata": {
    "colab": {
     "base_uri": "https://localhost:8080/",
     "height": 455
    },
    "id": "aeMsVzVNwwXY",
    "outputId": "5f974006-2a16-41f9-896c-573a91fcbfef"
   },
   "outputs": [
    {
     "name": "stdout",
     "output_type": "stream",
     "text": [
      "<class 'pandas.core.frame.DataFrame'>\n",
      "RangeIndex: 1000 entries, 0 to 999\n",
      "Data columns (total 5 columns):\n",
      " #   Column         Non-Null Count  Dtype \n",
      "---  ------         --------------  ----- \n",
      " 0   ticket_id      1000 non-null   int64 \n",
      " 1   ticket_text    945 non-null    object\n",
      " 2   issue_type     924 non-null    object\n",
      " 3   urgency_level  948 non-null    object\n",
      " 4   product        1000 non-null   object\n",
      "dtypes: int64(1), object(4)\n",
      "memory usage: 39.2+ KB\n"
     ]
    },
    {
     "data": {
      "text/plain": [
       "ticket_id         0\n",
       "ticket_text      55\n",
       "issue_type       76\n",
       "urgency_level    52\n",
       "product           0\n",
       "dtype: int64"
      ]
     },
     "execution_count": 9,
     "metadata": {},
     "output_type": "execute_result"
    }
   ],
   "source": [
    "df.info()\n",
    "df.isnull().sum()\n"
   ]
  },
  {
   "cell_type": "code",
   "execution_count": 10,
   "metadata": {
    "id": "Ah59STdSxasY"
   },
   "outputs": [],
   "source": [
    "# Preprocessing Function\n",
    "stop_words = set(stopwords.words('english'))\n",
    "lemmatizer = WordNetLemmatizer()\n",
    "\n",
    "def preprocess_text(text):\n",
    "    # Lowercase\n",
    "    text = text.lower()\n",
    "    # Remove special characters\n",
    "    text = re.sub(r'[^a-zA-Z0-9\\s]', '', text)\n",
    "    # Tokenize\n",
    "    tokens = word_tokenize(text)\n",
    "    # Remove stopwords & lemmatize\n",
    "    cleaned = [lemmatizer.lemmatize(word) for word in tokens if word not in stop_words]\n",
    "    return ' '.join(cleaned)\n"
   ]
  },
  {
   "cell_type": "code",
   "execution_count": 11,
   "metadata": {
    "colab": {
     "base_uri": "https://localhost:8080/",
     "height": 206
    },
    "id": "-93F0fH6xkLZ",
    "outputId": "0c5391cf-da18-4f2d-bb99-7d721196f25d"
   },
   "outputs": [
    {
     "data": {
      "text/html": [
       "<div>\n",
       "<style scoped>\n",
       "    .dataframe tbody tr th:only-of-type {\n",
       "        vertical-align: middle;\n",
       "    }\n",
       "\n",
       "    .dataframe tbody tr th {\n",
       "        vertical-align: top;\n",
       "    }\n",
       "\n",
       "    .dataframe thead th {\n",
       "        text-align: right;\n",
       "    }\n",
       "</style>\n",
       "<table border=\"1\" class=\"dataframe\">\n",
       "  <thead>\n",
       "    <tr style=\"text-align: right;\">\n",
       "      <th></th>\n",
       "      <th>ticket_text</th>\n",
       "      <th>clean_text</th>\n",
       "    </tr>\n",
       "  </thead>\n",
       "  <tbody>\n",
       "    <tr>\n",
       "      <th>0</th>\n",
       "      <td>Payment issue for my SmartWatch V2. I was unde...</td>\n",
       "      <td>payment issue smartwatch v2 underbilled order ...</td>\n",
       "    </tr>\n",
       "    <tr>\n",
       "      <th>1</th>\n",
       "      <td>Can you tell me more about the UltraClean Vacu...</td>\n",
       "      <td>tell ultraclean vacuum warranty also available...</td>\n",
       "    </tr>\n",
       "    <tr>\n",
       "      <th>2</th>\n",
       "      <td>I ordered SoundWave 300 but got EcoBreeze AC i...</td>\n",
       "      <td>ordered soundwave 300 got ecobreeze ac instead...</td>\n",
       "    </tr>\n",
       "    <tr>\n",
       "      <th>3</th>\n",
       "      <td>Facing installation issue with PhotoSnap Cam. ...</td>\n",
       "      <td>facing installation issue photosnap cam setup ...</td>\n",
       "    </tr>\n",
       "    <tr>\n",
       "      <th>4</th>\n",
       "      <td>Order #30903 for Vision LED TV is 13 days late...</td>\n",
       "      <td>order 30903 vision led tv 13 day late ordered ...</td>\n",
       "    </tr>\n",
       "  </tbody>\n",
       "</table>\n",
       "</div>"
      ],
      "text/plain": [
       "                                         ticket_text  \\\n",
       "0  Payment issue for my SmartWatch V2. I was unde...   \n",
       "1  Can you tell me more about the UltraClean Vacu...   \n",
       "2  I ordered SoundWave 300 but got EcoBreeze AC i...   \n",
       "3  Facing installation issue with PhotoSnap Cam. ...   \n",
       "4  Order #30903 for Vision LED TV is 13 days late...   \n",
       "\n",
       "                                          clean_text  \n",
       "0  payment issue smartwatch v2 underbilled order ...  \n",
       "1  tell ultraclean vacuum warranty also available...  \n",
       "2  ordered soundwave 300 got ecobreeze ac instead...  \n",
       "3  facing installation issue photosnap cam setup ...  \n",
       "4  order 30903 vision led tv 13 day late ordered ...  "
      ]
     },
     "execution_count": 11,
     "metadata": {},
     "output_type": "execute_result"
    }
   ],
   "source": [
    "# Apply Preprocessing\n",
    "df['clean_text'] = df['ticket_text'].astype(str).apply(preprocess_text)\n",
    "df[['ticket_text', 'clean_text']].head()"
   ]
  },
  {
   "cell_type": "code",
   "execution_count": 12,
   "metadata": {
    "colab": {
     "base_uri": "https://localhost:8080/",
     "height": 335
    },
    "id": "kNN8KjY0ye0c",
    "outputId": "baa63764-615c-4632-bf41-a430fd5fbef7"
   },
   "outputs": [
    {
     "data": {
      "text/plain": [
       "count    1000.000000\n",
       "mean        8.711000\n",
       "std         3.748537\n",
       "min         1.000000\n",
       "25%         7.000000\n",
       "50%         8.000000\n",
       "75%        10.000000\n",
       "max        21.000000\n",
       "Name: clean_text, dtype: float64"
      ]
     },
     "execution_count": 12,
     "metadata": {},
     "output_type": "execute_result"
    }
   ],
   "source": [
    "df.isnull().sum()\n",
    "df['clean_text'].str.split().apply(len).describe()\n"
   ]
  },
  {
   "cell_type": "markdown",
   "metadata": {
    "id": "8Mi5pnINzGYy"
   },
   "source": [
    "🚀 Step 2: Feature Engineering"
   ]
  },
  {
   "cell_type": "code",
   "execution_count": 13,
   "metadata": {
    "colab": {
     "base_uri": "https://localhost:8080/"
    },
    "id": "k5x_UAt0yjBx",
    "outputId": "8dfe8ddb-3147-46e0-902d-e585e69f1dde"
   },
   "outputs": [],
   "source": [
    "# !pip install textblob\n",
    "from textblob import TextBlob"
   ]
  },
  {
   "cell_type": "code",
   "execution_count": 14,
   "metadata": {
    "id": "E07zfsJD0gQy"
   },
   "outputs": [],
   "source": [
    "# Drop rows where issue_type or urgency_level is NaN\n",
    "df = df.dropna(subset=['issue_type', 'urgency_level'])\n"
   ]
  },
  {
   "cell_type": "code",
   "execution_count": 15,
   "metadata": {
    "colab": {
     "base_uri": "https://localhost:8080/"
    },
    "id": "AcavykggzKeg",
    "outputId": "80f11f1d-e8e1-4056-9067-bd0130b5c9b9"
   },
   "outputs": [],
   "source": [
    "# Ticket Length Feature\n",
    "df['ticket_length'] = df['clean_text'].apply(lambda x: len(x.split()))"
   ]
  },
  {
   "cell_type": "code",
   "execution_count": 16,
   "metadata": {
    "id": "lhLXrh_KzS_t"
   },
   "outputs": [],
   "source": [
    "# Sentiment Score Feature\n",
    "df['sentiment'] = df['clean_text'].apply(lambda x: TextBlob(x).sentiment.polarity)"
   ]
  },
  {
   "cell_type": "code",
   "execution_count": 17,
   "metadata": {
    "id": "6pYEGTRjzYbG"
   },
   "outputs": [],
   "source": [
    "# TF-IDF Vectorization\n",
    "from sklearn.feature_extraction.text import TfidfVectorizer\n",
    "\n",
    "tfidf = TfidfVectorizer(max_features=3000, ngram_range=(1, 2))\n",
    "X_tfidf = tfidf.fit_transform(df['clean_text'])\n"
   ]
  },
  {
   "cell_type": "code",
   "execution_count": 18,
   "metadata": {
    "id": "gnpsCfoSziKs"
   },
   "outputs": [],
   "source": [
    "# Combine TF-IDF with Extra Features\n",
    "from scipy.sparse import hstack\n",
    "\n",
    "ticket_len_feat = df['ticket_length'].values.reshape(-1, 1)\n",
    "sentiment_feat = df['sentiment'].values.reshape(-1, 1)\n",
    "\n",
    "# Stack all features together\n",
    "X_final = hstack([X_tfidf, ticket_len_feat, sentiment_feat])\n"
   ]
  },
  {
   "cell_type": "markdown",
   "metadata": {
    "id": "sVGMiWo90QHn"
   },
   "source": [
    "✅ Step 3: Multi-Task Learning (Model Training)"
   ]
  },
  {
   "cell_type": "code",
   "execution_count": 19,
   "metadata": {
    "id": "WjVJYM6u0QjJ"
   },
   "outputs": [],
   "source": [
    "# Encode categorical labels into numbers\n",
    "from sklearn.preprocessing import LabelEncoder\n",
    "\n",
    "le_issue = LabelEncoder()\n",
    "le_urgency = LabelEncoder()\n",
    "\n",
    "df['issue_label'] = le_issue.fit_transform(df['issue_type'])\n",
    "df['urgency_label'] = le_urgency.fit_transform(df['urgency_level'])"
   ]
  },
  {
   "cell_type": "code",
   "execution_count": 20,
   "metadata": {
    "id": "pYndZas-0WND"
   },
   "outputs": [],
   "source": [
    "from sklearn.model_selection import train_test_split\n",
    "\n",
    "X_train_i, X_test_i, y_train_i, y_test_i = train_test_split(\n",
    "    X_final, df['issue_label'], test_size=0.2, random_state=42, stratify=df['issue_label']\n",
    ")\n",
    "\n",
    "X_train_u, X_test_u, y_train_u, y_test_u = train_test_split(\n",
    "    X_final, df['urgency_label'], test_size=0.2, random_state=42, stratify=df['urgency_label']\n",
    ")\n",
    "\n"
   ]
  },
  {
   "cell_type": "code",
   "execution_count": 21,
   "metadata": {
    "colab": {
     "base_uri": "https://localhost:8080/",
     "height": 80
    },
    "id": "5uNtExme0ZyF",
    "outputId": "a3cac883-9ce8-47d2-d12a-33cd2c2093f5"
   },
   "outputs": [
    {
     "data": {
      "text/html": [
       "<style>#sk-container-id-1 {\n",
       "  /* Definition of color scheme common for light and dark mode */\n",
       "  --sklearn-color-text: black;\n",
       "  --sklearn-color-line: gray;\n",
       "  /* Definition of color scheme for unfitted estimators */\n",
       "  --sklearn-color-unfitted-level-0: #fff5e6;\n",
       "  --sklearn-color-unfitted-level-1: #f6e4d2;\n",
       "  --sklearn-color-unfitted-level-2: #ffe0b3;\n",
       "  --sklearn-color-unfitted-level-3: chocolate;\n",
       "  /* Definition of color scheme for fitted estimators */\n",
       "  --sklearn-color-fitted-level-0: #f0f8ff;\n",
       "  --sklearn-color-fitted-level-1: #d4ebff;\n",
       "  --sklearn-color-fitted-level-2: #b3dbfd;\n",
       "  --sklearn-color-fitted-level-3: cornflowerblue;\n",
       "\n",
       "  /* Specific color for light theme */\n",
       "  --sklearn-color-text-on-default-background: var(--sg-text-color, var(--theme-code-foreground, var(--jp-content-font-color1, black)));\n",
       "  --sklearn-color-background: var(--sg-background-color, var(--theme-background, var(--jp-layout-color0, white)));\n",
       "  --sklearn-color-border-box: var(--sg-text-color, var(--theme-code-foreground, var(--jp-content-font-color1, black)));\n",
       "  --sklearn-color-icon: #696969;\n",
       "\n",
       "  @media (prefers-color-scheme: dark) {\n",
       "    /* Redefinition of color scheme for dark theme */\n",
       "    --sklearn-color-text-on-default-background: var(--sg-text-color, var(--theme-code-foreground, var(--jp-content-font-color1, white)));\n",
       "    --sklearn-color-background: var(--sg-background-color, var(--theme-background, var(--jp-layout-color0, #111)));\n",
       "    --sklearn-color-border-box: var(--sg-text-color, var(--theme-code-foreground, var(--jp-content-font-color1, white)));\n",
       "    --sklearn-color-icon: #878787;\n",
       "  }\n",
       "}\n",
       "\n",
       "#sk-container-id-1 {\n",
       "  color: var(--sklearn-color-text);\n",
       "}\n",
       "\n",
       "#sk-container-id-1 pre {\n",
       "  padding: 0;\n",
       "}\n",
       "\n",
       "#sk-container-id-1 input.sk-hidden--visually {\n",
       "  border: 0;\n",
       "  clip: rect(1px 1px 1px 1px);\n",
       "  clip: rect(1px, 1px, 1px, 1px);\n",
       "  height: 1px;\n",
       "  margin: -1px;\n",
       "  overflow: hidden;\n",
       "  padding: 0;\n",
       "  position: absolute;\n",
       "  width: 1px;\n",
       "}\n",
       "\n",
       "#sk-container-id-1 div.sk-dashed-wrapped {\n",
       "  border: 1px dashed var(--sklearn-color-line);\n",
       "  margin: 0 0.4em 0.5em 0.4em;\n",
       "  box-sizing: border-box;\n",
       "  padding-bottom: 0.4em;\n",
       "  background-color: var(--sklearn-color-background);\n",
       "}\n",
       "\n",
       "#sk-container-id-1 div.sk-container {\n",
       "  /* jupyter's `normalize.less` sets `[hidden] { display: none; }`\n",
       "     but bootstrap.min.css set `[hidden] { display: none !important; }`\n",
       "     so we also need the `!important` here to be able to override the\n",
       "     default hidden behavior on the sphinx rendered scikit-learn.org.\n",
       "     See: https://github.com/scikit-learn/scikit-learn/issues/21755 */\n",
       "  display: inline-block !important;\n",
       "  position: relative;\n",
       "}\n",
       "\n",
       "#sk-container-id-1 div.sk-text-repr-fallback {\n",
       "  display: none;\n",
       "}\n",
       "\n",
       "div.sk-parallel-item,\n",
       "div.sk-serial,\n",
       "div.sk-item {\n",
       "  /* draw centered vertical line to link estimators */\n",
       "  background-image: linear-gradient(var(--sklearn-color-text-on-default-background), var(--sklearn-color-text-on-default-background));\n",
       "  background-size: 2px 100%;\n",
       "  background-repeat: no-repeat;\n",
       "  background-position: center center;\n",
       "}\n",
       "\n",
       "/* Parallel-specific style estimator block */\n",
       "\n",
       "#sk-container-id-1 div.sk-parallel-item::after {\n",
       "  content: \"\";\n",
       "  width: 100%;\n",
       "  border-bottom: 2px solid var(--sklearn-color-text-on-default-background);\n",
       "  flex-grow: 1;\n",
       "}\n",
       "\n",
       "#sk-container-id-1 div.sk-parallel {\n",
       "  display: flex;\n",
       "  align-items: stretch;\n",
       "  justify-content: center;\n",
       "  background-color: var(--sklearn-color-background);\n",
       "  position: relative;\n",
       "}\n",
       "\n",
       "#sk-container-id-1 div.sk-parallel-item {\n",
       "  display: flex;\n",
       "  flex-direction: column;\n",
       "}\n",
       "\n",
       "#sk-container-id-1 div.sk-parallel-item:first-child::after {\n",
       "  align-self: flex-end;\n",
       "  width: 50%;\n",
       "}\n",
       "\n",
       "#sk-container-id-1 div.sk-parallel-item:last-child::after {\n",
       "  align-self: flex-start;\n",
       "  width: 50%;\n",
       "}\n",
       "\n",
       "#sk-container-id-1 div.sk-parallel-item:only-child::after {\n",
       "  width: 0;\n",
       "}\n",
       "\n",
       "/* Serial-specific style estimator block */\n",
       "\n",
       "#sk-container-id-1 div.sk-serial {\n",
       "  display: flex;\n",
       "  flex-direction: column;\n",
       "  align-items: center;\n",
       "  background-color: var(--sklearn-color-background);\n",
       "  padding-right: 1em;\n",
       "  padding-left: 1em;\n",
       "}\n",
       "\n",
       "\n",
       "/* Toggleable style: style used for estimator/Pipeline/ColumnTransformer box that is\n",
       "clickable and can be expanded/collapsed.\n",
       "- Pipeline and ColumnTransformer use this feature and define the default style\n",
       "- Estimators will overwrite some part of the style using the `sk-estimator` class\n",
       "*/\n",
       "\n",
       "/* Pipeline and ColumnTransformer style (default) */\n",
       "\n",
       "#sk-container-id-1 div.sk-toggleable {\n",
       "  /* Default theme specific background. It is overwritten whether we have a\n",
       "  specific estimator or a Pipeline/ColumnTransformer */\n",
       "  background-color: var(--sklearn-color-background);\n",
       "}\n",
       "\n",
       "/* Toggleable label */\n",
       "#sk-container-id-1 label.sk-toggleable__label {\n",
       "  cursor: pointer;\n",
       "  display: block;\n",
       "  width: 100%;\n",
       "  margin-bottom: 0;\n",
       "  padding: 0.5em;\n",
       "  box-sizing: border-box;\n",
       "  text-align: center;\n",
       "}\n",
       "\n",
       "#sk-container-id-1 label.sk-toggleable__label-arrow:before {\n",
       "  /* Arrow on the left of the label */\n",
       "  content: \"▸\";\n",
       "  float: left;\n",
       "  margin-right: 0.25em;\n",
       "  color: var(--sklearn-color-icon);\n",
       "}\n",
       "\n",
       "#sk-container-id-1 label.sk-toggleable__label-arrow:hover:before {\n",
       "  color: var(--sklearn-color-text);\n",
       "}\n",
       "\n",
       "/* Toggleable content - dropdown */\n",
       "\n",
       "#sk-container-id-1 div.sk-toggleable__content {\n",
       "  max-height: 0;\n",
       "  max-width: 0;\n",
       "  overflow: hidden;\n",
       "  text-align: left;\n",
       "  /* unfitted */\n",
       "  background-color: var(--sklearn-color-unfitted-level-0);\n",
       "}\n",
       "\n",
       "#sk-container-id-1 div.sk-toggleable__content.fitted {\n",
       "  /* fitted */\n",
       "  background-color: var(--sklearn-color-fitted-level-0);\n",
       "}\n",
       "\n",
       "#sk-container-id-1 div.sk-toggleable__content pre {\n",
       "  margin: 0.2em;\n",
       "  border-radius: 0.25em;\n",
       "  color: var(--sklearn-color-text);\n",
       "  /* unfitted */\n",
       "  background-color: var(--sklearn-color-unfitted-level-0);\n",
       "}\n",
       "\n",
       "#sk-container-id-1 div.sk-toggleable__content.fitted pre {\n",
       "  /* unfitted */\n",
       "  background-color: var(--sklearn-color-fitted-level-0);\n",
       "}\n",
       "\n",
       "#sk-container-id-1 input.sk-toggleable__control:checked~div.sk-toggleable__content {\n",
       "  /* Expand drop-down */\n",
       "  max-height: 200px;\n",
       "  max-width: 100%;\n",
       "  overflow: auto;\n",
       "}\n",
       "\n",
       "#sk-container-id-1 input.sk-toggleable__control:checked~label.sk-toggleable__label-arrow:before {\n",
       "  content: \"▾\";\n",
       "}\n",
       "\n",
       "/* Pipeline/ColumnTransformer-specific style */\n",
       "\n",
       "#sk-container-id-1 div.sk-label input.sk-toggleable__control:checked~label.sk-toggleable__label {\n",
       "  color: var(--sklearn-color-text);\n",
       "  background-color: var(--sklearn-color-unfitted-level-2);\n",
       "}\n",
       "\n",
       "#sk-container-id-1 div.sk-label.fitted input.sk-toggleable__control:checked~label.sk-toggleable__label {\n",
       "  background-color: var(--sklearn-color-fitted-level-2);\n",
       "}\n",
       "\n",
       "/* Estimator-specific style */\n",
       "\n",
       "/* Colorize estimator box */\n",
       "#sk-container-id-1 div.sk-estimator input.sk-toggleable__control:checked~label.sk-toggleable__label {\n",
       "  /* unfitted */\n",
       "  background-color: var(--sklearn-color-unfitted-level-2);\n",
       "}\n",
       "\n",
       "#sk-container-id-1 div.sk-estimator.fitted input.sk-toggleable__control:checked~label.sk-toggleable__label {\n",
       "  /* fitted */\n",
       "  background-color: var(--sklearn-color-fitted-level-2);\n",
       "}\n",
       "\n",
       "#sk-container-id-1 div.sk-label label.sk-toggleable__label,\n",
       "#sk-container-id-1 div.sk-label label {\n",
       "  /* The background is the default theme color */\n",
       "  color: var(--sklearn-color-text-on-default-background);\n",
       "}\n",
       "\n",
       "/* On hover, darken the color of the background */\n",
       "#sk-container-id-1 div.sk-label:hover label.sk-toggleable__label {\n",
       "  color: var(--sklearn-color-text);\n",
       "  background-color: var(--sklearn-color-unfitted-level-2);\n",
       "}\n",
       "\n",
       "/* Label box, darken color on hover, fitted */\n",
       "#sk-container-id-1 div.sk-label.fitted:hover label.sk-toggleable__label.fitted {\n",
       "  color: var(--sklearn-color-text);\n",
       "  background-color: var(--sklearn-color-fitted-level-2);\n",
       "}\n",
       "\n",
       "/* Estimator label */\n",
       "\n",
       "#sk-container-id-1 div.sk-label label {\n",
       "  font-family: monospace;\n",
       "  font-weight: bold;\n",
       "  display: inline-block;\n",
       "  line-height: 1.2em;\n",
       "}\n",
       "\n",
       "#sk-container-id-1 div.sk-label-container {\n",
       "  text-align: center;\n",
       "}\n",
       "\n",
       "/* Estimator-specific */\n",
       "#sk-container-id-1 div.sk-estimator {\n",
       "  font-family: monospace;\n",
       "  border: 1px dotted var(--sklearn-color-border-box);\n",
       "  border-radius: 0.25em;\n",
       "  box-sizing: border-box;\n",
       "  margin-bottom: 0.5em;\n",
       "  /* unfitted */\n",
       "  background-color: var(--sklearn-color-unfitted-level-0);\n",
       "}\n",
       "\n",
       "#sk-container-id-1 div.sk-estimator.fitted {\n",
       "  /* fitted */\n",
       "  background-color: var(--sklearn-color-fitted-level-0);\n",
       "}\n",
       "\n",
       "/* on hover */\n",
       "#sk-container-id-1 div.sk-estimator:hover {\n",
       "  /* unfitted */\n",
       "  background-color: var(--sklearn-color-unfitted-level-2);\n",
       "}\n",
       "\n",
       "#sk-container-id-1 div.sk-estimator.fitted:hover {\n",
       "  /* fitted */\n",
       "  background-color: var(--sklearn-color-fitted-level-2);\n",
       "}\n",
       "\n",
       "/* Specification for estimator info (e.g. \"i\" and \"?\") */\n",
       "\n",
       "/* Common style for \"i\" and \"?\" */\n",
       "\n",
       ".sk-estimator-doc-link,\n",
       "a:link.sk-estimator-doc-link,\n",
       "a:visited.sk-estimator-doc-link {\n",
       "  float: right;\n",
       "  font-size: smaller;\n",
       "  line-height: 1em;\n",
       "  font-family: monospace;\n",
       "  background-color: var(--sklearn-color-background);\n",
       "  border-radius: 1em;\n",
       "  height: 1em;\n",
       "  width: 1em;\n",
       "  text-decoration: none !important;\n",
       "  margin-left: 1ex;\n",
       "  /* unfitted */\n",
       "  border: var(--sklearn-color-unfitted-level-1) 1pt solid;\n",
       "  color: var(--sklearn-color-unfitted-level-1);\n",
       "}\n",
       "\n",
       ".sk-estimator-doc-link.fitted,\n",
       "a:link.sk-estimator-doc-link.fitted,\n",
       "a:visited.sk-estimator-doc-link.fitted {\n",
       "  /* fitted */\n",
       "  border: var(--sklearn-color-fitted-level-1) 1pt solid;\n",
       "  color: var(--sklearn-color-fitted-level-1);\n",
       "}\n",
       "\n",
       "/* On hover */\n",
       "div.sk-estimator:hover .sk-estimator-doc-link:hover,\n",
       ".sk-estimator-doc-link:hover,\n",
       "div.sk-label-container:hover .sk-estimator-doc-link:hover,\n",
       ".sk-estimator-doc-link:hover {\n",
       "  /* unfitted */\n",
       "  background-color: var(--sklearn-color-unfitted-level-3);\n",
       "  color: var(--sklearn-color-background);\n",
       "  text-decoration: none;\n",
       "}\n",
       "\n",
       "div.sk-estimator.fitted:hover .sk-estimator-doc-link.fitted:hover,\n",
       ".sk-estimator-doc-link.fitted:hover,\n",
       "div.sk-label-container:hover .sk-estimator-doc-link.fitted:hover,\n",
       ".sk-estimator-doc-link.fitted:hover {\n",
       "  /* fitted */\n",
       "  background-color: var(--sklearn-color-fitted-level-3);\n",
       "  color: var(--sklearn-color-background);\n",
       "  text-decoration: none;\n",
       "}\n",
       "\n",
       "/* Span, style for the box shown on hovering the info icon */\n",
       ".sk-estimator-doc-link span {\n",
       "  display: none;\n",
       "  z-index: 9999;\n",
       "  position: relative;\n",
       "  font-weight: normal;\n",
       "  right: .2ex;\n",
       "  padding: .5ex;\n",
       "  margin: .5ex;\n",
       "  width: min-content;\n",
       "  min-width: 20ex;\n",
       "  max-width: 50ex;\n",
       "  color: var(--sklearn-color-text);\n",
       "  box-shadow: 2pt 2pt 4pt #999;\n",
       "  /* unfitted */\n",
       "  background: var(--sklearn-color-unfitted-level-0);\n",
       "  border: .5pt solid var(--sklearn-color-unfitted-level-3);\n",
       "}\n",
       "\n",
       ".sk-estimator-doc-link.fitted span {\n",
       "  /* fitted */\n",
       "  background: var(--sklearn-color-fitted-level-0);\n",
       "  border: var(--sklearn-color-fitted-level-3);\n",
       "}\n",
       "\n",
       ".sk-estimator-doc-link:hover span {\n",
       "  display: block;\n",
       "}\n",
       "\n",
       "/* \"?\"-specific style due to the `<a>` HTML tag */\n",
       "\n",
       "#sk-container-id-1 a.estimator_doc_link {\n",
       "  float: right;\n",
       "  font-size: 1rem;\n",
       "  line-height: 1em;\n",
       "  font-family: monospace;\n",
       "  background-color: var(--sklearn-color-background);\n",
       "  border-radius: 1rem;\n",
       "  height: 1rem;\n",
       "  width: 1rem;\n",
       "  text-decoration: none;\n",
       "  /* unfitted */\n",
       "  color: var(--sklearn-color-unfitted-level-1);\n",
       "  border: var(--sklearn-color-unfitted-level-1) 1pt solid;\n",
       "}\n",
       "\n",
       "#sk-container-id-1 a.estimator_doc_link.fitted {\n",
       "  /* fitted */\n",
       "  border: var(--sklearn-color-fitted-level-1) 1pt solid;\n",
       "  color: var(--sklearn-color-fitted-level-1);\n",
       "}\n",
       "\n",
       "/* On hover */\n",
       "#sk-container-id-1 a.estimator_doc_link:hover {\n",
       "  /* unfitted */\n",
       "  background-color: var(--sklearn-color-unfitted-level-3);\n",
       "  color: var(--sklearn-color-background);\n",
       "  text-decoration: none;\n",
       "}\n",
       "\n",
       "#sk-container-id-1 a.estimator_doc_link.fitted:hover {\n",
       "  /* fitted */\n",
       "  background-color: var(--sklearn-color-fitted-level-3);\n",
       "}\n",
       "</style><div id=\"sk-container-id-1\" class=\"sk-top-container\"><div class=\"sk-text-repr-fallback\"><pre>RandomForestClassifier(random_state=42)</pre><b>In a Jupyter environment, please rerun this cell to show the HTML representation or trust the notebook. <br />On GitHub, the HTML representation is unable to render, please try loading this page with nbviewer.org.</b></div><div class=\"sk-container\" hidden><div class=\"sk-item\"><div class=\"sk-estimator fitted sk-toggleable\"><input class=\"sk-toggleable__control sk-hidden--visually\" id=\"sk-estimator-id-1\" type=\"checkbox\" checked><label for=\"sk-estimator-id-1\" class=\"sk-toggleable__label fitted sk-toggleable__label-arrow fitted\">&nbsp;&nbsp;RandomForestClassifier<a class=\"sk-estimator-doc-link fitted\" rel=\"noreferrer\" target=\"_blank\" href=\"https://scikit-learn.org/1.5/modules/generated/sklearn.ensemble.RandomForestClassifier.html\">?<span>Documentation for RandomForestClassifier</span></a><span class=\"sk-estimator-doc-link fitted\">i<span>Fitted</span></span></label><div class=\"sk-toggleable__content fitted\"><pre>RandomForestClassifier(random_state=42)</pre></div> </div></div></div></div>"
      ],
      "text/plain": [
       "RandomForestClassifier(random_state=42)"
      ]
     },
     "execution_count": 21,
     "metadata": {},
     "output_type": "execute_result"
    }
   ],
   "source": [
    "from sklearn.linear_model import LogisticRegression\n",
    "\n",
    "# Model for issue type\n",
    "model_issue = LogisticRegression(max_iter=1000)\n",
    "model_issue.fit(X_train_i, y_train_i)\n",
    "\n",
    "# Model for urgency level\n",
    "from sklearn.ensemble import RandomForestClassifier\n",
    "\n",
    "model_urgency = RandomForestClassifier(n_estimators=100, random_state=42)\n",
    "model_urgency.fit(X_train_u, y_train_u)\n",
    "\n"
   ]
  },
  {
   "cell_type": "markdown",
   "metadata": {
    "id": "oZcdpz3FC2MM"
   },
   "source": [
    "Evaluation"
   ]
  },
  {
   "cell_type": "code",
   "execution_count": 22,
   "metadata": {
    "colab": {
     "base_uri": "https://localhost:8080/"
    },
    "id": "3HbHh2nW0dEQ",
    "outputId": "92a42b21-40e8-4f04-b486-24e0b176e3cf"
   },
   "outputs": [
    {
     "name": "stdout",
     "output_type": "stream",
     "text": [
      "Issue Type Classification Report:\n",
      "                    precision    recall  f1-score   support\n",
      "\n",
      "    Account Access       1.00      1.00      1.00        27\n",
      "   Billing Problem       1.00      0.93      0.96        28\n",
      "   General Inquiry       0.85      1.00      0.92        28\n",
      "Installation Issue       1.00      0.96      0.98        27\n",
      "     Late Delivery       1.00      0.90      0.95        21\n",
      "    Product Defect       1.00      1.00      1.00        23\n",
      "        Wrong Item       1.00      1.00      1.00        22\n",
      "\n",
      "          accuracy                           0.97       176\n",
      "         macro avg       0.98      0.97      0.97       176\n",
      "      weighted avg       0.98      0.97      0.97       176\n",
      "\n",
      "Urgency Level Classification Report:\n",
      "              precision    recall  f1-score   support\n",
      "\n",
      "        High       0.31      0.36      0.33        61\n",
      "         Low       0.30      0.25      0.28        55\n",
      "      Medium       0.42      0.42      0.42        60\n",
      "\n",
      "    accuracy                           0.35       176\n",
      "   macro avg       0.35      0.34      0.34       176\n",
      "weighted avg       0.35      0.35      0.35       176\n",
      "\n"
     ]
    }
   ],
   "source": [
    "from sklearn.metrics import classification_report\n",
    "\n",
    "# Issue type report\n",
    "print(\"Issue Type Classification Report:\")\n",
    "print(classification_report(y_test_i, model_issue.predict(X_test_i), target_names=[str(cls) for cls in le_issue.classes_]))\n",
    "\n",
    "# Urgency level report\n",
    "print(\"Urgency Level Classification Report:\")\n",
    "print(classification_report(y_test_u, model_urgency.predict(X_test_u), target_names=[str(cls) for cls in le_urgency.classes_]))\n",
    "\n"
   ]
  },
  {
   "cell_type": "markdown",
   "metadata": {
    "id": "HTqkwz3CC9_8"
   },
   "source": [
    "Prediction function"
   ]
  },
  {
   "cell_type": "code",
   "execution_count": 23,
   "metadata": {
    "colab": {
     "base_uri": "https://localhost:8080/"
    },
    "id": "_8hXVOuRBNd5",
    "outputId": "76b1a105-dee9-4f82-dde5-a179fccad954"
   },
   "outputs": [
    {
     "name": "stderr",
     "output_type": "stream",
     "text": [
      "[nltk_data] Downloading package punkt to\n",
      "[nltk_data]     C:\\Users\\Saikiran\\AppData\\Roaming\\nltk_data...\n",
      "[nltk_data]   Package punkt is already up-to-date!\n",
      "[nltk_data] Downloading package stopwords to\n",
      "[nltk_data]     C:\\Users\\Saikiran\\AppData\\Roaming\\nltk_data...\n",
      "[nltk_data]   Package stopwords is already up-to-date!\n",
      "[nltk_data] Downloading package wordnet to\n",
      "[nltk_data]     C:\\Users\\Saikiran\\AppData\\Roaming\\nltk_data...\n",
      "[nltk_data]   Package wordnet is already up-to-date!\n"
     ]
    }
   ],
   "source": [
    "import re\n",
    "import numpy as np\n",
    "from nltk.corpus import stopwords\n",
    "from nltk.stem import WordNetLemmatizer\n",
    "from textblob import TextBlob\n",
    "import nltk\n",
    "from scipy.sparse import hstack\n",
    "\n",
    "# Download NLTK data if not already\n",
    "nltk.download('punkt')\n",
    "nltk.download('stopwords')\n",
    "nltk.download('wordnet')\n",
    "\n",
    "# Preprocessing function\n",
    "def preprocess_text(text):\n",
    "    text = text.lower()\n",
    "    text = re.sub(r'[^a-zA-Z0-9\\s]', '', text)\n",
    "    tokens = nltk.word_tokenize(text)\n",
    "    tokens = [t for t in tokens if t not in stopwords.words('english')]\n",
    "    lemmatizer = WordNetLemmatizer()\n",
    "    tokens = [lemmatizer.lemmatize(t) for t in tokens]\n",
    "    return ' '.join(tokens)\n",
    "\n",
    "# Main function\n",
    "def predict_and_extract(text, issue_model, urgency_model, tfidf_vectorizer, label_enc_issue, label_enc_urgency):\n",
    "    # Step 1: Preprocess\n",
    "    cleaned_text = preprocess_text(text)\n",
    "\n",
    "    # Step 2: Feature extraction\n",
    "    X_tfidf = tfidf_vectorizer.transform([cleaned_text])  # (1, n_features)\n",
    "\n",
    "    ticket_length = np.array([[len(cleaned_text.split())]])  # (1, 1)\n",
    "    sentiment_score = np.array([[TextBlob(cleaned_text).sentiment.polarity]])  # (1, 1)\n",
    "\n",
    "    # Combine into X_final-like structure\n",
    "    X_input = hstack([X_tfidf, ticket_length, sentiment_score])\n",
    "\n",
    "    # Step 3: Predict\n",
    "    issue_pred = issue_model.predict(X_input)\n",
    "    urgency_pred = urgency_model.predict(X_input)\n",
    "\n",
    "    issue_decoded = label_enc_issue.inverse_transform(issue_pred)[0]\n",
    "    urgency_decoded = label_enc_urgency.inverse_transform(urgency_pred)[0]\n",
    "\n",
    "    # Step 4: Entity extraction\n",
    "    product_list = ['WidgetX', 'GadgetPro', 'SuperWidget']\n",
    "    found_products = [p for p in product_list if p.lower() in text.lower()]\n",
    "\n",
    "    # Detect dates like \"May 12, 2024\" or \"12/05/2024\"\n",
    "    dates = re.findall(r'\\b(?:\\d{1,2}[/-]\\d{1,2}[/-]\\d{2,4}|\\w+ \\d{1,2}, \\d{4})\\b', text)\n",
    "\n",
    "    # Keywords for complaints\n",
    "    complaint_keywords = ['broken', 'late', 'error', 'damaged', 'not working']\n",
    "    found_keywords = [w for w in complaint_keywords if w in text.lower()]\n",
    "\n",
    "    # Return structured result\n",
    "    return {\n",
    "        \"issue_type\": issue_decoded,\n",
    "        \"urgency_level\": urgency_decoded,\n",
    "        \"entities\": {\n",
    "            \"products\": found_products,\n",
    "            \"dates\": dates,\n",
    "            \"complaint_keywords\": found_keywords\n",
    "        }\n",
    "    }\n"
   ]
  },
  {
   "cell_type": "code",
   "execution_count": 24,
   "metadata": {
    "colab": {
     "base_uri": "https://localhost:8080/"
    },
    "id": "9BKEYE4OBQyf",
    "outputId": "026d4029-4a79-4fae-e600-9ceaf68e8b9c"
   },
   "outputs": [
    {
     "name": "stdout",
     "output_type": "stream",
     "text": [
      "{'issue_type': 'Late Delivery', 'urgency_level': 'Low', 'entities': {'products': ['WidgetX'], 'dates': ['May 12, 2024'], 'complaint_keywords': ['broken', 'late']}}\n"
     ]
    }
   ],
   "source": [
    "result = predict_and_extract(\n",
    "    text=\"My WidgetX was delivered late on May 12, 2024 and is broken.\",\n",
    "    issue_model=model_issue,\n",
    "    urgency_model=model_urgency,\n",
    "    tfidf_vectorizer=tfidf,\n",
    "    label_enc_issue=le_issue,\n",
    "    label_enc_urgency=le_urgency\n",
    ")\n",
    "\n",
    "print(result)\n"
   ]
  },
  {
   "cell_type": "markdown",
   "metadata": {
    "id": "60fO4hv7DE4f"
   },
   "source": [
    "To save models"
   ]
  },
  {
   "cell_type": "code",
   "execution_count": 25,
   "metadata": {
    "id": "yU-FrGC6I6aO"
   },
   "outputs": [
    {
     "data": {
      "text/plain": [
       "['label_encoder_urgency.pkl']"
      ]
     },
     "execution_count": 25,
     "metadata": {},
     "output_type": "execute_result"
    }
   ],
   "source": [
    "import joblib\n",
    "\n",
    "#Save models\n",
    "joblib.dump(model_issue, 'model_issue.pkl')\n",
    "joblib.dump(model_urgency, 'model_urgency.pkl')\n",
    "\n",
    "#Save TF-IDF vectorizer\n",
    "joblib.dump(tfidf, 'tfidf_vectorizer.pkl')\n",
    "\n",
    "#Save label encoders\n",
    "joblib.dump(le_issue, 'label_encoder_issue.pkl')\n",
    "joblib.dump(le_urgency, 'label_encoder_urgency.pkl')\n"
   ]
  },
  {
   "cell_type": "code",
   "execution_count": 26,
   "metadata": {
    "colab": {
     "base_uri": "https://localhost:8080/"
    },
    "id": "a-guCtWAJFi-",
    "outputId": "ab01a405-63d1-4870-b73d-ce830e6c85e1"
   },
   "outputs": [
    {
     "name": "stdout",
     "output_type": "stream",
     "text": [
      "Requirement already satisfied: gradio in c:\\users\\saikiran\\new folder\\lib\\site-packages (5.31.0)\n",
      "Requirement already satisfied: aiofiles<25.0,>=22.0 in c:\\users\\saikiran\\new folder\\lib\\site-packages (from gradio) (22.1.0)\n",
      "Requirement already satisfied: anyio<5.0,>=3.0 in c:\\users\\saikiran\\new folder\\lib\\site-packages (from gradio) (3.7.1)\n",
      "Requirement already satisfied: fastapi<1.0,>=0.115.2 in c:\\users\\saikiran\\new folder\\lib\\site-packages (from gradio) (0.115.12)\n",
      "Requirement already satisfied: ffmpy in c:\\users\\saikiran\\new folder\\lib\\site-packages (from gradio) (0.5.0)\n",
      "Requirement already satisfied: gradio-client==1.10.1 in c:\\users\\saikiran\\new folder\\lib\\site-packages (from gradio) (1.10.1)\n",
      "Requirement already satisfied: groovy~=0.1 in c:\\users\\saikiran\\new folder\\lib\\site-packages (from gradio) (0.1.2)\n",
      "Requirement already satisfied: httpx>=0.24.1 in c:\\users\\saikiran\\new folder\\lib\\site-packages (from gradio) (0.28.1)\n",
      "Requirement already satisfied: huggingface-hub>=0.28.1 in c:\\users\\saikiran\\new folder\\lib\\site-packages (from gradio) (0.32.2)\n",
      "Requirement already satisfied: jinja2<4.0 in c:\\users\\saikiran\\new folder\\lib\\site-packages (from gradio) (3.1.2)\n",
      "Requirement already satisfied: markupsafe<4.0,>=2.0 in c:\\users\\saikiran\\new folder\\lib\\site-packages (from gradio) (2.1.1)\n",
      "Requirement already satisfied: numpy<3.0,>=1.0 in c:\\users\\saikiran\\new folder\\lib\\site-packages (from gradio) (1.26.4)\n",
      "Requirement already satisfied: orjson~=3.0 in c:\\users\\saikiran\\new folder\\lib\\site-packages (from gradio) (3.10.18)\n",
      "Requirement already satisfied: packaging in c:\\users\\saikiran\\new folder\\lib\\site-packages (from gradio) (23.0)\n",
      "Requirement already satisfied: pandas<3.0,>=1.0 in c:\\users\\saikiran\\new folder\\lib\\site-packages (from gradio) (1.5.2)\n",
      "Requirement already satisfied: pillow<12.0,>=8.0 in c:\\users\\saikiran\\new folder\\lib\\site-packages (from gradio) (9.4.0)\n",
      "Requirement already satisfied: pydantic<2.12,>=2.0 in c:\\users\\saikiran\\new folder\\lib\\site-packages (from gradio) (2.11.5)\n",
      "Requirement already satisfied: pydub in c:\\users\\saikiran\\new folder\\lib\\site-packages (from gradio) (0.25.1)\n",
      "Requirement already satisfied: python-multipart>=0.0.18 in c:\\users\\saikiran\\new folder\\lib\\site-packages (from gradio) (0.0.20)\n",
      "Requirement already satisfied: pyyaml<7.0,>=5.0 in c:\\users\\saikiran\\new folder\\lib\\site-packages (from gradio) (6.0)\n",
      "Requirement already satisfied: ruff>=0.9.3 in c:\\users\\saikiran\\new folder\\lib\\site-packages (from gradio) (0.11.11)\n",
      "Requirement already satisfied: safehttpx<0.2.0,>=0.1.6 in c:\\users\\saikiran\\new folder\\lib\\site-packages (from gradio) (0.1.6)\n",
      "Requirement already satisfied: semantic-version~=2.0 in c:\\users\\saikiran\\new folder\\lib\\site-packages (from gradio) (2.10.0)\n",
      "Requirement already satisfied: starlette<1.0,>=0.40.0 in c:\\users\\saikiran\\new folder\\lib\\site-packages (from gradio) (0.46.2)\n",
      "Requirement already satisfied: tomlkit<0.14.0,>=0.12.0 in c:\\users\\saikiran\\new folder\\lib\\site-packages (from gradio) (0.13.2)\n",
      "Requirement already satisfied: typer<1.0,>=0.12 in c:\\users\\saikiran\\new folder\\lib\\site-packages (from gradio) (0.16.0)\n",
      "Requirement already satisfied: typing-extensions~=4.0 in c:\\users\\saikiran\\new folder\\lib\\site-packages (from gradio) (4.12.2)\n",
      "Requirement already satisfied: uvicorn>=0.14.0 in c:\\users\\saikiran\\new folder\\lib\\site-packages (from gradio) (0.24.0.post1)\n",
      "Requirement already satisfied: fsspec in c:\\users\\saikiran\\new folder\\lib\\site-packages (from gradio-client==1.10.1->gradio) (2023.10.0)\n",
      "Requirement already satisfied: websockets<16.0,>=10.0 in c:\\users\\saikiran\\new folder\\lib\\site-packages (from gradio-client==1.10.1->gradio) (10.4)\n",
      "Requirement already satisfied: idna>=2.8 in c:\\users\\saikiran\\new folder\\lib\\site-packages (from anyio<5.0,>=3.0->gradio) (2.10)\n",
      "Requirement already satisfied: sniffio>=1.1 in c:\\users\\saikiran\\new folder\\lib\\site-packages (from anyio<5.0,>=3.0->gradio) (1.2.0)\n",
      "Requirement already satisfied: certifi in c:\\users\\saikiran\\new folder\\lib\\site-packages (from httpx>=0.24.1->gradio) (2023.7.22)\n",
      "Requirement already satisfied: httpcore==1.* in c:\\users\\saikiran\\new folder\\lib\\site-packages (from httpx>=0.24.1->gradio) (1.0.9)\n",
      "Requirement already satisfied: h11>=0.16 in c:\\users\\saikiran\\new folder\\lib\\site-packages (from httpcore==1.*->httpx>=0.24.1->gradio) (0.16.0)\n",
      "Requirement already satisfied: filelock in c:\\users\\saikiran\\new folder\\lib\\site-packages (from huggingface-hub>=0.28.1->gradio) (3.9.0)\n",
      "Requirement already satisfied: requests in c:\\users\\saikiran\\new folder\\lib\\site-packages (from huggingface-hub>=0.28.1->gradio) (2.28.1)\n",
      "Requirement already satisfied: tqdm>=4.42.1 in c:\\users\\saikiran\\new folder\\lib\\site-packages (from huggingface-hub>=0.28.1->gradio) (4.67.1)\n",
      "Requirement already satisfied: python-dateutil>=2.8.1 in c:\\users\\saikiran\\new folder\\lib\\site-packages (from pandas<3.0,>=1.0->gradio) (2.8.2)\n",
      "Requirement already satisfied: pytz>=2020.1 in c:\\users\\saikiran\\new folder\\lib\\site-packages (from pandas<3.0,>=1.0->gradio) (2022.7)\n",
      "Requirement already satisfied: annotated-types>=0.6.0 in c:\\users\\saikiran\\new folder\\lib\\site-packages (from pydantic<2.12,>=2.0->gradio) (0.7.0)\n",
      "Requirement already satisfied: pydantic-core==2.33.2 in c:\\users\\saikiran\\new folder\\lib\\site-packages (from pydantic<2.12,>=2.0->gradio) (2.33.2)\n",
      "Requirement already satisfied: typing-inspection>=0.4.0 in c:\\users\\saikiran\\new folder\\lib\\site-packages (from pydantic<2.12,>=2.0->gradio) (0.4.1)\n",
      "Requirement already satisfied: click>=8.0.0 in c:\\users\\saikiran\\appdata\\roaming\\python\\python311\\site-packages (from typer<1.0,>=0.12->gradio) (8.1.7)\n",
      "Requirement already satisfied: shellingham>=1.3.0 in c:\\users\\saikiran\\new folder\\lib\\site-packages (from typer<1.0,>=0.12->gradio) (1.5.4)\n",
      "Requirement already satisfied: rich>=10.11.0 in c:\\users\\saikiran\\new folder\\lib\\site-packages (from typer<1.0,>=0.12->gradio) (13.6.0)\n",
      "Requirement already satisfied: colorama in c:\\users\\saikiran\\new folder\\lib\\site-packages (from click>=8.0.0->typer<1.0,>=0.12->gradio) (0.4.6)\n",
      "Requirement already satisfied: six>=1.5 in c:\\users\\saikiran\\new folder\\lib\\site-packages (from python-dateutil>=2.8.1->pandas<3.0,>=1.0->gradio) (1.16.0)\n",
      "Requirement already satisfied: markdown-it-py>=2.2.0 in c:\\users\\saikiran\\new folder\\lib\\site-packages (from rich>=10.11.0->typer<1.0,>=0.12->gradio) (2.2.0)\n",
      "Requirement already satisfied: pygments<3.0.0,>=2.13.0 in c:\\users\\saikiran\\new folder\\lib\\site-packages (from rich>=10.11.0->typer<1.0,>=0.12->gradio) (2.15.1)\n",
      "Requirement already satisfied: charset-normalizer<3,>=2 in c:\\users\\saikiran\\new folder\\lib\\site-packages (from requests->huggingface-hub>=0.28.1->gradio) (2.0.4)\n",
      "Requirement already satisfied: urllib3<1.27,>=1.21.1 in c:\\users\\saikiran\\new folder\\lib\\site-packages (from requests->huggingface-hub>=0.28.1->gradio) (1.26.16)\n",
      "Requirement already satisfied: mdurl~=0.1 in c:\\users\\saikiran\\new folder\\lib\\site-packages (from markdown-it-py>=2.2.0->rich>=10.11.0->typer<1.0,>=0.12->gradio) (0.1.0)\n"
     ]
    }
   ],
   "source": [
    "!pip install gradio"
   ]
  },
  {
   "cell_type": "markdown",
   "metadata": {
    "id": "HjNnq81XDIfo"
   },
   "source": [
    "Gradio UI"
   ]
  },
  {
   "cell_type": "code",
   "execution_count": 27,
   "metadata": {
    "colab": {
     "base_uri": "https://localhost:8080/",
     "height": 648
    },
    "id": "kDDy20zKIw9N",
    "outputId": "4e90a062-5f77-4b6c-f02a-0e8b17dcf720"
   },
   "outputs": [
    {
     "name": "stdout",
     "output_type": "stream",
     "text": [
      "* Running on local URL:  http://127.0.0.1:7860\n",
      "* To create a public link, set `share=True` in `launch()`.\n"
     ]
    },
    {
     "data": {
      "text/html": [
       "<div><iframe src=\"http://127.0.0.1:7860/\" width=\"100%\" height=\"500\" allow=\"autoplay; camera; microphone; clipboard-read; clipboard-write;\" frameborder=\"0\" allowfullscreen></iframe></div>"
      ],
      "text/plain": [
       "<IPython.core.display.HTML object>"
      ]
     },
     "metadata": {},
     "output_type": "display_data"
    },
    {
     "data": {
      "text/plain": []
     },
     "execution_count": 27,
     "metadata": {},
     "output_type": "execute_result"
    },
    {
     "name": "stdout",
     "output_type": "stream",
     "text": [
      "Using existing dataset file at: .gradio\\flagged\\dataset1.csv\n"
     ]
    }
   ],
   "source": [
    "import gradio as gr\n",
    "\n",
    "def gradio_predict(text):\n",
    "    try:\n",
    "        result = predict_and_extract(\n",
    "            text,\n",
    "            model_issue,\n",
    "            model_urgency,\n",
    "            tfidf,\n",
    "            le_issue,\n",
    "            le_urgency\n",
    "        )\n",
    "        return (\n",
    "            result['issue_type'],\n",
    "            result['urgency_level'],\n",
    "            result['entities']\n",
    "        )\n",
    "    except Exception as e:\n",
    "        return \"Error\", \"Error\", {\"error\": str(e)}\n",
    "\n",
    "gr.Interface(\n",
    "    fn=gradio_predict,\n",
    "    inputs=gr.Textbox(lines=5, placeholder=\"Enter your support ticket here...\"),\n",
    "    outputs=[\n",
    "        gr.Textbox(label=\"Predicted Issue Type\"),\n",
    "        gr.Textbox(label=\"Predicted Urgency Level\"),\n",
    "        gr.JSON(label=\"Extracted Entities\")\n",
    "    ],\n",
    "    title=\"Customer Support Ticket Classifier\",\n",
    "    description=\"Enter a support ticket text. The model will classify the issue type and urgency level, and extract relevant entities.\"\n",
    ").launch()\n"
   ]
  },
  {
   "cell_type": "code",
   "execution_count": null,
   "metadata": {},
   "outputs": [],
   "source": []
  }
 ],
 "metadata": {
  "accelerator": "GPU",
  "colab": {
   "gpuType": "T4",
   "provenance": []
  },
  "kernelspec": {
   "display_name": "Python 3 (ipykernel)",
   "language": "python",
   "name": "python3"
  },
  "language_info": {
   "codemirror_mode": {
    "name": "ipython",
    "version": 3
   },
   "file_extension": ".py",
   "mimetype": "text/x-python",
   "name": "python",
   "nbconvert_exporter": "python",
   "pygments_lexer": "ipython3",
   "version": "3.11.3"
  }
 },
 "nbformat": 4,
 "nbformat_minor": 1
}
